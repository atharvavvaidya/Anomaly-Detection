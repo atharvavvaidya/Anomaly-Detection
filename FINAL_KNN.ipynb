{
  "cells": [
    {
      "cell_type": "code",
      "execution_count": 3,
      "metadata": {
        "colab": {
          "base_uri": "https://localhost:8080/"
        },
        "id": "zj0snniarXbo",
        "outputId": "34af3f84-d710-4a9d-e020-2b381a732101"
      },
      "outputs": [
        {
          "output_type": "stream",
          "name": "stdout",
          "text": [
            "Training Accuracy:  0.9710962851068591\n",
            "Testing Accuracy:  0.9012213740458015\n",
            "               precision    recall  f1-score   support\n",
            "\n",
            "    high_risk       1.00      1.00      1.00      1659\n",
            "     low_risk       0.97      0.90      0.94     15830\n",
            "moderate_risk       0.53      0.81      0.64      2161\n",
            "\n",
            "     accuracy                           0.90     19650\n",
            "    macro avg       0.84      0.91      0.86     19650\n",
            " weighted avg       0.93      0.90      0.91     19650\n",
            "\n",
            "[[ 1659     0     0]\n",
            " [    0 14294  1536]\n",
            " [    0   405  1756]]\n"
          ]
        }
      ],
      "source": [
        "import numpy as np\n",
        "import pandas as pd\n",
        "import matplotlib.pyplot as plt\n",
        "import seaborn as sns\n",
        "from sklearn.model_selection import train_test_split, cross_val_score\n",
        "from sklearn.neighbors import KNeighborsClassifier\n",
        "from sklearn.metrics import accuracy_score, confusion_matrix, classification_report\n",
        "from imblearn.over_sampling import SMOTE\n",
        "from sklearn.preprocessing import StandardScaler\n",
        "from sklearn.utils import shuffle\n",
        "\n",
        "\n",
        "# Load data\n",
        "data = pd.read_csv(\"/content/sample_data/metaverse_transactions_dataset.csv\")\n",
        "data.drop(columns=['timestamp'], inplace=True)\n",
        "\n",
        "# Drop unnecessary columns\n",
        "data.drop(columns=['sending_address', 'receiving_address'], inplace=True)\n",
        "\n",
        "# Separate features and target\n",
        "X = data.drop(columns=['anomaly'])\n",
        "y = data['anomaly']\n",
        "\n",
        "categorical_cols=X.select_dtypes(include=['object'])\n",
        "categorical_cols=pd.get_dummies(categorical_cols, drop_first=False)\n",
        "\n",
        "numerical_cols=X.select_dtypes(include=['int64'])\n",
        "X=pd.concat([numerical_cols,categorical_cols],axis=1)\n",
        "\n",
        "from sklearn.preprocessing import StandardScaler\n",
        "scaler = StandardScaler()\n",
        "numerical_data=X[['hour_of_day','login_frequency','session_duration']]\n",
        "numerical_data_scaled = scaler.fit_transform(numerical_data)\n",
        "scaled_num_df=pd.DataFrame(data=numerical_data_scaled, columns=['hrod','logfrq','sesdur'], index=X.index)\n",
        "X.drop(columns=['hour_of_day','login_frequency','session_duration'], inplace=True)\n",
        "X=pd.concat([scaled_num_df,X],axis=1)\n",
        "X.rename(columns={'hrod': 'hour_of_day'}, inplace=True)\n",
        "X.rename(columns={'logfrq': 'login_frequency'}, inplace=True)\n",
        "X.rename(columns={'sesdur': 'session_duration'}, inplace=True)\n",
        "\n",
        "# Shuffle the data\n",
        "X, y_shuffled = shuffle(X, y, random_state=42)\n",
        "\n",
        "# Split the shuffled data into training and testing sets\n",
        "X_train_shuffled, X_test_shuffled, y_train_shuffled, y_test_shuffled = train_test_split(X, y_shuffled, test_size=0.25, random_state=42)\n",
        "\n",
        "\n",
        "# Apply SMOTE oversampling\n",
        "smote = SMOTE()\n",
        "X_train_resampled, y_train_resampled = smote.fit_resample(X_train_shuffled, y_train_shuffled)\n",
        "\n",
        "from sklearn.neighbors import KNeighborsClassifier\n",
        "knn_model= KNeighborsClassifier(n_neighbors=5)\n",
        "knn_model.fit(X_train_resampled,y_train_resampled)\n",
        "y_pred=knn_model.predict(X_test_shuffled)\n",
        "\n",
        "from sklearn.metrics import confusion_matrix, classification_report\n",
        "knn_model_train_accuracy=accuracy_score(y_train_resampled, knn_model.predict(X_train_resampled))\n",
        "knn_model_test_accuracy=accuracy_score(y_test_shuffled, y_pred)\n",
        "\n",
        "print(\"Training Accuracy: \", knn_model_train_accuracy)\n",
        "print(\"Testing Accuracy: \", knn_model_test_accuracy)\n",
        "print(classification_report(y_test_shuffled, y_pred))\n",
        "print(confusion_matrix(y_test_shuffled, y_pred))\n",
        "\n",
        "\n",
        "\n"
      ]
    }
  ],
  "metadata": {
    "colab": {
      "provenance": []
    },
    "kernelspec": {
      "display_name": "Python 3",
      "name": "python3"
    },
    "language_info": {
      "name": "python"
    }
  },
  "nbformat": 4,
  "nbformat_minor": 0
}